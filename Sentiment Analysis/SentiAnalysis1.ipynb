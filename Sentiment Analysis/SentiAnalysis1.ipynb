{
 "cells": [
  {
   "cell_type": "markdown",
   "id": "16ba7f9f-b7d3-43ce-9655-fec54e3247f0",
   "metadata": {},
   "source": [
    "##### LLM Sample Code Series\n",
    "\n",
    "# Sentiment Analysis\n",
    "### (without fine-tuning)\n",
    "---------------------\n",
    "#### by: Vala Rohani (vrohani@gmail.com)"
   ]
  },
  {
   "cell_type": "code",
   "execution_count": null,
   "id": "cb780463-69d2-4040-89bd-157e7e6f3c7e",
   "metadata": {},
   "outputs": [],
   "source": [
    "# Step 1: Install necessary libraries\n",
    "# Run the following lines of code if you don't have the required libraries installed.\n",
    "\n",
    "#import sys\n",
    "#!{sys.executable} -m pip install transformers torch"
   ]
  },
  {
   "cell_type": "code",
   "execution_count": null,
   "id": "16673ddb-6ac7-4207-a972-6035cab341aa",
   "metadata": {},
   "outputs": [],
   "source": []
  },
  {
   "cell_type": "code",
   "execution_count": null,
   "id": "92faa85c-10c1-4364-8bca-beaab13ac712",
   "metadata": {},
   "outputs": [],
   "source": [
    "# Step 2: Import necessary libraries\n",
    "from transformers import pipeline"
   ]
  },
  {
   "cell_type": "code",
   "execution_count": null,
   "id": "a499dbed-aeba-40f1-9800-77e4f1ae43ae",
   "metadata": {},
   "outputs": [],
   "source": []
  },
  {
   "cell_type": "code",
   "execution_count": null,
   "id": "152ab857-3db0-4cdb-a045-459875612724",
   "metadata": {},
   "outputs": [],
   "source": [
    "#disabling wanrings\n",
    "import warnings\n",
    "warnings.filterwarnings('ignore')"
   ]
  },
  {
   "cell_type": "code",
   "execution_count": null,
   "id": "f3ae39d9-4b0a-41cb-a017-e8ace37aa5ff",
   "metadata": {},
   "outputs": [],
   "source": [
    "# Step 3: Load a pre-trained sentiment analysis pipeline\n",
    "# Using the DistilBERT model fine-tuned on SST-2 for sentiment analysis\n",
    "sentiment_analyzer = pipeline(\"sentiment-analysis\", \n",
    "                              model=\"distilbert-base-uncased-finetuned-sst-2-english\")\n",
    "\n"
   ]
  },
  {
   "cell_type": "code",
   "execution_count": null,
   "id": "dea351f2-0147-49af-bbfe-03e38711c170",
   "metadata": {},
   "outputs": [],
   "source": []
  },
  {
   "cell_type": "code",
   "execution_count": null,
   "id": "2b5a5251-106e-4be5-9e20-80bde48fd6b3",
   "metadata": {},
   "outputs": [],
   "source": [
    "# Step 4: Define sample texts for analysis\n",
    "texts = [\n",
    "    \"I love this product! It's absolutely fantastic.\",\n",
    "    \"The movie was awful and a complete waste of time.\",\n",
    "    \"I feel neutral about this new feature.\",\n",
    "    \"The customer service was excellent and quick to respond.\",\n",
    "    \"I'm very disappointed with the quality of the item.\"\n",
    "]\n"
   ]
  },
  {
   "cell_type": "code",
   "execution_count": null,
   "id": "3d4e98ae-f0ea-4a04-b283-acb06add438e",
   "metadata": {},
   "outputs": [],
   "source": []
  },
  {
   "cell_type": "code",
   "execution_count": null,
   "id": "6070cf9b-4dd4-4e3f-8f9b-e87141d860d4",
   "metadata": {},
   "outputs": [],
   "source": [
    "# Step 5: Perform sentiment analysis on each text\n",
    "print(\"Sentiment Analysis Results:\")\n",
    "for text in texts:\n",
    "    result = sentiment_analyzer(text)[0]  # Get the first result (since it returns a list of results)\n",
    "    sentiment = result['label']           # 'LABEL_0' (Negative) or 'LABEL_1' (Positive)\n",
    "    score = result['score']               # Confidence score for the prediction\n",
    "    print(f\"Text: {text}\\nSentiment: {sentiment}, Score: {score:.4f}\\n\")"
   ]
  },
  {
   "cell_type": "code",
   "execution_count": null,
   "id": "4ee46bfd-3b51-4fb8-8d7a-1490bf8aab16",
   "metadata": {},
   "outputs": [],
   "source": []
  },
  {
   "cell_type": "code",
   "execution_count": null,
   "id": "727b0c9d-47a0-444e-8c5d-8b509db16e8a",
   "metadata": {},
   "outputs": [],
   "source": []
  }
 ],
 "metadata": {
  "kernelspec": {
   "display_name": "Python 3 (ipykernel)",
   "language": "python",
   "name": "python3"
  },
  "language_info": {
   "codemirror_mode": {
    "name": "ipython",
    "version": 3
   },
   "file_extension": ".py",
   "mimetype": "text/x-python",
   "name": "python",
   "nbconvert_exporter": "python",
   "pygments_lexer": "ipython3",
   "version": "3.12.4"
  }
 },
 "nbformat": 4,
 "nbformat_minor": 5
}
